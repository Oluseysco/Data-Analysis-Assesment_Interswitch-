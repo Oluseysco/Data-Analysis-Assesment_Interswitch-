{
  "cells": [
    {
      "cell_type": "code",
      "execution_count": 2,
      "metadata": {
        "colab": {
          "base_uri": "https://localhost:8080/"
        },
        "id": "Xki8rQ3LnzoJ",
        "outputId": "8f1726b3-ad4a-4ce8-bb8d-e234ec162d8f"
      },
      "outputs": [
        {
          "output_type": "stream",
          "name": "stdout",
          "text": [
            "Collecting pyspark\n",
            "  Downloading pyspark-3.5.2.tar.gz (317.3 MB)\n",
            "\u001b[2K     \u001b[90m━━━━━━━━━━━━━━━━━━━━━━━━━━━━━━━━━━━━━━━━\u001b[0m \u001b[32m317.3/317.3 MB\u001b[0m \u001b[31m4.1 MB/s\u001b[0m eta \u001b[36m0:00:00\u001b[0m\n",
            "\u001b[?25h  Preparing metadata (setup.py) ... \u001b[?25l\u001b[?25hdone\n",
            "Requirement already satisfied: py4j==0.10.9.7 in /usr/local/lib/python3.10/dist-packages (from pyspark) (0.10.9.7)\n",
            "Building wheels for collected packages: pyspark\n",
            "  Building wheel for pyspark (setup.py) ... \u001b[?25l\u001b[?25hdone\n",
            "  Created wheel for pyspark: filename=pyspark-3.5.2-py2.py3-none-any.whl size=317812365 sha256=4dc0ac0cc02d0eeb3b77ba34ced0a1d5747f07f60b743ef8fdc28c55f7f59df2\n",
            "  Stored in directory: /root/.cache/pip/wheels/34/34/bd/03944534c44b677cd5859f248090daa9fb27b3c8f8e5f49574\n",
            "Successfully built pyspark\n",
            "Installing collected packages: pyspark\n",
            "Successfully installed pyspark-3.5.2\n",
            "Requirement already satisfied: pyspark in /usr/local/lib/python3.10/dist-packages (3.5.2)\n",
            "Collecting findspark\n",
            "  Downloading findspark-2.0.1-py2.py3-none-any.whl.metadata (352 bytes)\n",
            "Requirement already satisfied: py4j==0.10.9.7 in /usr/local/lib/python3.10/dist-packages (from pyspark) (0.10.9.7)\n",
            "Downloading findspark-2.0.1-py2.py3-none-any.whl (4.4 kB)\n",
            "Installing collected packages: findspark\n",
            "Successfully installed findspark-2.0.1\n"
          ]
        }
      ],
      "source": [
        " !pip install pyspark\n",
        " !pip install pyspark findspark"
      ]
    },
    {
      "cell_type": "code",
      "execution_count": 3,
      "metadata": {
        "id": "OI_e0U6SnzoM"
      },
      "outputs": [],
      "source": [
        "from pyspark.sql import SparkSession\n",
        "from pyspark.sql.functions import udf\n",
        "from pyspark.sql.types import StringType\n",
        "from pyspark.sql.types import IntegerType\n",
        "from pyspark.sql.functions import desc\n",
        "from pyspark.sql.functions import asc\n",
        "from pyspark.sql.functions import sum as Fsum\n",
        "from pyspark.sql.functions import substring\n",
        "from pyspark.sql.functions import concat\n",
        "from pyspark.sql.functions import lit\n",
        "from pyspark.sql.functions import col\n",
        "from pyspark.sql.functions import trim\n",
        "from pyspark.sql.functions import when\n",
        "from pyspark.sql.functions import regexp_replace\n",
        "from pyspark.sql.functions import count\n",
        "\n",
        "\n",
        "import datetime\n",
        "import numpy as np\n",
        "import pandas as pd"
      ]
    },
    {
      "cell_type": "code",
      "execution_count": 4,
      "metadata": {
        "id": "8YHQN190nzoN"
      },
      "outputs": [],
      "source": [
        "import findspark\n",
        "findspark.init()"
      ]
    },
    {
      "cell_type": "code",
      "source": [
        "from google.colab import drive\n",
        "drive.mount('/content/drive')"
      ],
      "metadata": {
        "colab": {
          "base_uri": "https://localhost:8080/"
        },
        "id": "PSd4-i6Fo-us",
        "outputId": "509b47e6-4b05-407c-d131-edca29bdb63d"
      },
      "execution_count": 7,
      "outputs": [
        {
          "output_type": "stream",
          "name": "stdout",
          "text": [
            "Mounted at /content/drive\n"
          ]
        }
      ]
    },
    {
      "cell_type": "code",
      "source": [
        "from pyspark.sql import SparkSession\n",
        "\n",
        "# Initialize Spark session\n",
        "spark = SparkSession.builder \\\n",
        "    .appName(\"CPS Analysis\") \\\n",
        "    .getOrCreate()\n",
        "\n",
        "# Load the data\n",
        "data_path = \"/content/drive/MyDrive/dec17pub.dat\"\n",
        "df = spark.read.format('csv').load(data_path, header = None)\n",
        "\n",
        "#df = spark.read.option(\"delimiter\", \" \").option(\"header\", \"false\").csv(data_path)\n",
        "\n",
        "# Display the schema\n",
        "df.printSchema()\n"
      ],
      "metadata": {
        "colab": {
          "base_uri": "https://localhost:8080/"
        },
        "id": "ZWBxQzH3pTNg",
        "outputId": "8602baf7-7f38-4fe2-bda6-169d797b7808"
      },
      "execution_count": 19,
      "outputs": [
        {
          "output_type": "stream",
          "name": "stdout",
          "text": [
            "root\n",
            " |-- _c0: string (nullable = true)\n",
            "\n"
          ]
        }
      ]
    },
    {
      "cell_type": "code",
      "execution_count": 20,
      "metadata": {
        "id": "pVBTpTo9nzoP"
      },
      "outputs": [],
      "source": [
        "mapped_df = df.select(trim(substring(df._c0, 1, 15)).alias('full_household_id'), \\\n",
        "               trim(concat(substring(df._c0, 18, 4), lit(\"/\"), substring(df._c0, 16, 2))).alias('time_of_interview'), \\\n",
        "               trim(substring(df._c0, 24, 3)).alias('final_outcome'), \\\n",
        "               trim(substring(df._c0, 31, 2)).alias('housing_unit_type'), \\\n",
        "               trim(substring(df._c0, 61, 2)).alias('household_type'), \\\n",
        "               trim(substring(df._c0, 33, 2)).alias('telephone'), \\\n",
        "               regexp_replace(trim(substring(df._c0, 35, 2)), \"-\", \"\").alias('access_phone_elsewhere'), \\\n",
        "               regexp_replace(trim(substring(df._c0, 37, 2)), \"-\", \"\").alias('telephone_interview_acceptable'), \\\n",
        "               regexp_replace(trim(substring(df._c0, 65, 2)), \"-\", \"\").alias('interview_type'), \\\n",
        "               regexp_replace(trim(substring(df._c0, 39, 2)), \"-\", \"\").alias('family_income_range'), \\\n",
        "               trim(substring(df._c0, 91, 1)).alias('geo_division'), \\\n",
        "               trim(substring(df._c0, 139, 2)).alias('race'))"
      ]
    },
    {
      "cell_type": "code",
      "execution_count": 21,
      "metadata": {
        "colab": {
          "base_uri": "https://localhost:8080/"
        },
        "id": "dXc2MaJYnzoP",
        "outputId": "3ad6eb61-92a1-4952-ccca-0ea994a0e993"
      },
      "outputs": [
        {
          "output_type": "stream",
          "name": "stdout",
          "text": [
            "+-----------------+-----------------+-------------+-----------------+--------------+---------+----------------------+------------------------------+--------------+-------------------+------------+----+\n",
            "|full_household_id|time_of_interview|final_outcome|housing_unit_type|household_type|telephone|access_phone_elsewhere|telephone_interview_acceptable|interview_type|family_income_range|geo_division|race|\n",
            "+-----------------+-----------------+-------------+-----------------+--------------+---------+----------------------+------------------------------+--------------+-------------------+------------+----+\n",
            "|  000004795110719|          2017/12|          201|                1|             1|        1|                     1|                             1|             2|                  9|           6|   1|\n",
            "|  000004795110719|          2017/12|          201|                1|             1|        1|                     1|                             1|             2|                  9|           6|   1|\n",
            "|  000071691004941|          2017/12|          201|                1|             1|        1|                     1|                             1|             1|                 11|           6|   1|\n",
            "|  000071691004941|          2017/12|          201|                1|             1|        1|                     1|                             1|             1|                 11|           6|   1|\n",
            "|  000071691004941|          2017/12|          201|                1|             1|        1|                     1|                             1|             1|                 11|           6|   1|\n",
            "|  000110177987986|          2017/12|          201|                1|             1|        1|                     1|                             1|             1|                 14|           6|   2|\n",
            "|  000110177987986|          2017/12|          201|                1|             1|        1|                     1|                             1|             1|                 14|           6|   2|\n",
            "|  000110206593381|          2017/12|          213|                1|             0|       -1|                     1|                             0|             1|                  1|           6|  -1|\n",
            "|  000110284815680|          2017/12|          201|                1|             7|        1|                     1|                             1|             1|                  9|           6|   1|\n",
            "|  000110327856469|          2017/12|          201|                1|             7|        1|                     1|                             1|             1|                  5|           6|   2|\n",
            "|  000110339935453|          2017/12|          201|                1|             4|        1|                     1|                             1|             2|                 11|           6|   2|\n",
            "|  000110339935453|          2017/12|          201|                1|             4|        1|                     1|                             1|             2|                 11|           6|   2|\n",
            "|  000110339935453|          2017/12|          201|                1|             4|        1|                     1|                             1|             2|                 11|           6|   2|\n",
            "|  000110339935453|          2017/12|          201|                1|             4|        1|                     1|                             1|             2|                 11|           6|   2|\n",
            "|  000110343868567|          2017/12|          201|                1|             1|        1|                     1|                             0|             1|                 14|           6|   1|\n",
            "|  000110343868567|          2017/12|          201|                1|             1|        1|                     1|                             0|             1|                 14|           6|   1|\n",
            "|  000110359424339|          2017/12|          201|                1|             4|        1|                     1|                             1|             1|                 13|           6|   2|\n",
            "|  000110359424339|          2017/12|          201|                1|             4|        1|                     1|                             1|             1|                 13|           6|   2|\n",
            "|  000110415400429|          2017/12|          201|                1|             1|        1|                     1|                             1|             1|                 10|           6|   1|\n",
            "|  000110415400429|          2017/12|          201|                1|             1|        1|                     1|                             1|             1|                 10|           6|   1|\n",
            "+-----------------+-----------------+-------------+-----------------+--------------+---------+----------------------+------------------------------+--------------+-------------------+------------+----+\n",
            "only showing top 20 rows\n",
            "\n"
          ]
        }
      ],
      "source": [
        "mapped_df.show()"
      ]
    },
    {
      "cell_type": "code",
      "execution_count": 22,
      "metadata": {
        "id": "nLtbckkYnzoQ"
      },
      "outputs": [],
      "source": [
        "final_mapped_df = mapped_df.select(mapped_df.full_household_id, \\\n",
        "                mapped_df.time_of_interview, \\\n",
        "\n",
        "                 when(mapped_df['final_outcome'] == lit(\"1\"), lit(\"FULLY COMPLETE CATI INTERVIEW\")). \\\n",
        "                when(mapped_df['final_outcome'] == lit(\"2\"), lit(\"PARTIALLY COMPLETED CATI INTERVIEW\")). \\\n",
        "                when(mapped_df['final_outcome'] == lit(\"3\"), lit(\"COMPLETE BUT PERSONAL VISIT REQUESTED NEXT MONTH\")). \\\n",
        "                when(mapped_df['final_outcome'] == lit(\"4\"), lit(\"PARTIAL, NOT COMPLETE AT CLOSEOUT\")). \\\n",
        "                when(mapped_df['final_outcome'] == lit(\"5\"), lit(\"LABOR FORCE COMPLETE, SUPPLEMENT INCOMPLETE - CATI\")). \\\n",
        "                when(mapped_df['final_outcome'] == lit(\"6\"), lit(\"LF COMPLETE, SUPPLEMENT DK ITEMS INCOMPLETE AT CLOSEOUT–ASEC ONLY\")). \\\n",
        "                when(mapped_df['final_outcome'] == lit(\"20\"), lit(\"HH OCCUPIED ENTIRELY BY ARMED FORCES MEMBERS OR ALL UNDER 15 YEARS OF AGE\")). \\\n",
        "                when(mapped_df['final_outcome'] == lit(\"201\"), lit(\"CAPI COMPLETE\")). \\\n",
        "                when(mapped_df['final_outcome'] == lit(\"202\"), lit(\"CALLBACK NEEDED\")). \\\n",
        "                when(mapped_df['final_outcome'] == lit(\"203\"), lit(\"SUFFICIENT PARTIAL - PRECLOSEOUT\")). \\\n",
        "                when(mapped_df['final_outcome'] == lit(\"204\"), lit(\"SUFFICIENT PARTIAL - AT CLOSEOUT\")). \\\n",
        "                when(mapped_df['final_outcome'] == lit(\"205\"), lit(\"LABOR FORCE COMPLETE, - SUPPL. INCOMPLETE - CAPI\")). \\\n",
        "                when(mapped_df['final_outcome'] == lit(\"213\"), lit(\"LANGUAGE BARRIER\")). \\\n",
        "                when(mapped_df['final_outcome'] == lit(\"214\"), lit(\"UNABLE TO LOCATE\")). \\\n",
        "                when(mapped_df['final_outcome'] == lit(\"216\"), lit(\"NO ONE HOME\")). \\\n",
        "                when(mapped_df['final_outcome'] == lit(\"217\"), lit(\"TEMPORARILY ABSENT\")). \\\n",
        "                when(mapped_df['final_outcome'] == lit(\"218\"), lit(\"REFUSED\")). \\\n",
        "                when(mapped_df['final_outcome'] == lit(\"219\"), lit(\"OTHER OCCUPIED - SPECIFY\")). \\\n",
        "                when(mapped_df['final_outcome'] == lit(\"223\"), lit(\"ENTIRE HOUSEHOLD ARMED FORCES\")). \\\n",
        "                when(mapped_df['final_outcome'] == lit(\"224\"), lit(\"ENTIRE HOUSEHOLD UNDER 15\")). \\\n",
        "                when(mapped_df['final_outcome'] == lit(\"225\"), lit(\"TEMP. OCCUPIED W/PERSONS WITH URE\")). \\\n",
        "                when(mapped_df['final_outcome'] == lit(\"226\"), lit(\"VACANT REGULAR\")). \\\n",
        "                when(mapped_df['final_outcome'] == lit(\"227\"), lit(\"VACANT - STORAGE OF HHLD FURNITURE\")). \\\n",
        "                when(mapped_df['final_outcome'] == lit(\"228\"), lit(\"UNFIT, TO BE DEMOLISHED\")). \\\n",
        "                when(mapped_df['final_outcome'] == lit(\"229\"), lit(\"UNDER CONSTRUCTION, NOT READY\")). \\\n",
        "                when(mapped_df['final_outcome'] == lit(\"230\"), lit(\"CONVERTED TO TEMP BUSINESS OR STORAGE\")). \\\n",
        "                when(mapped_df['final_outcome'] == lit(\"231\"), lit(\"UNOCCUPIED TENT OR TRAILER SITE\")). \\\n",
        "                when(mapped_df['final_outcome'] == lit(\"232\"), lit(\"PERMIT GRANTED - CONSTRUCTION NOT STARTED\")). \\\n",
        "                when(mapped_df['final_outcome'] == lit(\"233\"), lit(\"OTHER - SPECIFY\")). \\\n",
        "                when(mapped_df['final_outcome'] == lit(\"240\"), lit(\"DEMOLISHED\")). \\\n",
        "                when(mapped_df['final_outcome'] == lit(\"241\"), lit(\"HOUSE OR TRAILER MOVED\")). \\\n",
        "                when(mapped_df['final_outcome'] == lit(\"242\"), lit(\"OUTSIDE SEGMENT\")). \\\n",
        "                when(mapped_df['final_outcome'] == lit(\"243\"), lit(\"CONVERTED TO PERM. BUSINESS OR STORAGE\")). \\\n",
        "                when(mapped_df['final_outcome'] == lit(\"244\"), lit(\"MERGED\")). \\\n",
        "                when(mapped_df['final_outcome'] == lit(\"245\"), lit(\"CONDEMNED\")). \\\n",
        "                when(mapped_df['final_outcome'] == lit(\"246\"), lit(\"BUILT AFTER APRIL 1, 2000\")). \\\n",
        "                when(mapped_df['final_outcome'] == lit(\"247\"), lit(\"UNUSED SERIAL NO./LISTING SHEET LINE\")). \\\n",
        "                when(mapped_df['final_outcome'] == lit(\"248\"), lit(\"OTHER - SPECIFY\")). \\\n",
        "                when(mapped_df['final_outcome'] == lit(\"256\"), lit(\"REMOVED DURING SUB-SAMPLING\")). \\\n",
        "                when(mapped_df['final_outcome'] == lit(\"257\"), lit(\"UNIT ALREADY HAD A CHANCE OF SELECTION\")). \\\n",
        "                 otherwise('UNDEFINED').alias('final_outcome'), \\\n",
        "                when(mapped_df.housing_unit_type == 1, lit(\"HOUSE, APARTMENT, FLAT\")). \\\n",
        "                 when(mapped_df.housing_unit_type == 2, lit(\"HU IN NONTRANSIENT HOTEL, MOTEL, ETC.\")). \\\n",
        "                when(mapped_df.housing_unit_type == 3, lit(\"HU PERMANENT IN TRANSIENT HOTEL, MOTEL\")). \\\n",
        "                when(mapped_df.housing_unit_type == 4, lit(\"HU IN ROOMING HOUSE\")). \\\n",
        "                when(mapped_df.housing_unit_type == 5, lit(\"MOBILE HOME OR TRAILER W/NO PERM. ROOM ADDED\")). \\\n",
        "                when(mapped_df.housing_unit_type == 6, lit(\"MOBILE HOME OR TRAILER W/1 OR MORE PERM. ROOMS ADDED\")). \\\n",
        "                when(mapped_df.housing_unit_type == 7, lit(\"HU NOT SPECIFIED ABOVE\")). \\\n",
        "                when(mapped_df.housing_unit_type == 8, lit(\"QUARTERS NOT HU IN ROOMING OR BRDING HS\")). \\\n",
        "                when(mapped_df.housing_unit_type == 9, lit(\"UNIT NOT PERM. IN TRANSIENT HOTL, MOTL\")). \\\n",
        "                when(mapped_df.housing_unit_type == 10, lit(\"UNOCCUPIED TENT SITE OR TRLR SITE\")). \\\n",
        "                when(mapped_df.housing_unit_type == 11, lit(\"STUDENT QUARTERS IN COLLEGE DORM\")). \\\n",
        "                when(mapped_df.housing_unit_type == 12, lit(\"OTHER UNIT NOT SPECIFIED ABOVE\")). \\\n",
        "                 otherwise('UNDEFINED').alias('housing_unit_type'), \\\n",
        "                when(mapped_df.household_type == 1, lit(\"HUSBAND/WIFE PRIMARY FAMILY (NEITHER AF)\")). \\\n",
        "                when(mapped_df.household_type == 2, lit(\"HUSB/WIFE PRIM. FAMILY (EITHER/BOTH AF)\")). \\\n",
        "                when(mapped_df.household_type == 3, lit(\"UNMARRIED CIVILIAN MALE-PRIM. FAM HHLDER\")). \\\n",
        "                when(mapped_df.household_type == 4, lit(\"UNMARRIED CIV. FEMALE-PRIM FAM HHLDER\")). \\\n",
        "                when(mapped_df.household_type == 5, lit(\"PRIMARY FAMILY HHLDER-RP IN AF, UNMAR.\")). \\\n",
        "                when(mapped_df.household_type == 6, lit(\"CIVILIAN MALE PRIMARY INDIVIDUAL\")). \\\n",
        "                when(mapped_df.household_type == 7, lit(\"CIVILIAN FEMALE PRIMARY INDIVIDUAL\")). \\\n",
        "                when(mapped_df.household_type == 8, lit(\"PRIMARY INDIVIDUAL HHLD-RP IN AF\")). \\\n",
        "                when(mapped_df.household_type == 9, lit(\"GROUP QUARTERS WITH FAMILY\")). \\\n",
        "                when(mapped_df.household_type == 10, lit(\"GROUP QUARTERS WITHOUT FAMILY\")). \\\n",
        "                 otherwise('UNDEFINED').alias('household_type'), \\\n",
        "                when(mapped_df['telephone'] == 1, lit(\"YES\")). \\\n",
        "                when(mapped_df['telephone'] == 2, lit(\"NO\")). \\\n",
        "                 otherwise('UNDEFINED').alias('telephone'), \\\n",
        "                when(mapped_df['access_phone_elsewhere'] == lit(\"1\"), lit(\"YES\")). \\\n",
        "                when(mapped_df['access_phone_elsewhere'] == lit(\"2\"), \\\n",
        "                lit(\"NO\")).alias('access_phone_elsewhere'), \\\n",
        "                when(mapped_df['telephone_interview_acceptable'] == lit(\"1\"), lit(\"YES\")). \\\n",
        "                when(mapped_df['telephone_interview_acceptable'] == lit(\"2\"), \\\n",
        "                lit(\"NO\")).otherwise('UNDEFINED').alias('telephone_interview_acceptable'), \\\n",
        "                when(mapped_df['interview_type'] == lit(\"0\"), lit(\"NONINTERVIEW/INDETERMINATE\")). \\\n",
        "                when(mapped_df['interview_type'] == lit(\"1\"), lit(\"PERSONAL\")). \\\n",
        "                when(mapped_df['interview_type'] == lit(\"2\"), lit(\"TELEPHONE\")).\\\n",
        "                 otherwise('UNDEFINED').alias('interview_type'), \\\n",
        "              when(mapped_df['family_income_range'] == lit(\"1\"), lit(\"LESS THAN $5,000\")). \\\n",
        "                when(mapped_df['family_income_range'] == lit(\"2\"), lit(\"5,000 TO 7,499\")). \\\n",
        "                when(mapped_df['family_income_range'] == lit(\"3\"), lit(\"7,500 TO 9,999\")). \\\n",
        "                when(mapped_df['family_income_range'] == lit(\"4\"), lit(\"10,000 TO 12,499\")). \\\n",
        "                when(mapped_df['family_income_range'] == lit(\"5\"), lit(\"12,500 TO 14,999\")). \\\n",
        "                when(mapped_df['family_income_range'] == lit(\"6\"), lit(\"15,000 TO 19,999\")). \\\n",
        "                when(mapped_df['family_income_range'] == lit(\"7\"), lit(\"20,000 TO 24,999\")). \\\n",
        "                when(mapped_df['family_income_range'] == lit(\"8\"), lit(\"25,000 TO 29,999\")). \\\n",
        "                when(mapped_df['family_income_range'] == lit(\"9\"), lit(\"30,000 TO 34,999\")). \\\n",
        "                when(mapped_df['family_income_range'] == lit(\"10\"), lit(\"35,000 TO 39,999\")). \\\n",
        "                when(mapped_df['family_income_range'] == lit(\"11\"), lit(\"40,000 TO 49,999\")). \\\n",
        "                when(mapped_df['family_income_range'] == lit(\"12\"), lit(\"50,000 TO 59,999\")). \\\n",
        "                when(mapped_df['family_income_range'] == lit(\"13\"), lit(\"60,000 TO 74,999\")). \\\n",
        "                when(mapped_df['family_income_range'] == lit(\"14\"), lit(\"75,000 TO 99,999\")). \\\n",
        "                when(mapped_df['family_income_range'] == lit(\"15\"), lit(\"100,000 TO 149,999\")). \\\n",
        "                when(mapped_df['family_income_range'] == lit(\"16\"), lit(\"150,000 OR MORE\")). \\\n",
        "                 otherwise('UNDEFINED').alias('family_income_range'), \\\n",
        "                when(mapped_df['geo_division'] == lit(\"1\"), lit(\"NEW ENGLAND\")). \\\n",
        "                when(mapped_df['geo_division'] == lit(\"2\"), lit(\"MIDDLE ATLANTIC\")). \\\n",
        "                when(mapped_df['geo_division'] == lit(\"3\"), lit(\"EAST NORTH CENTRAL\")). \\\n",
        "                when(mapped_df['geo_division'] == lit(\"4\"), lit(\"WEST NORTH CENTRAL\")). \\\n",
        "                when(mapped_df['geo_division'] == lit(\"5\"), lit(\"SOUTH ATLANTIC\")). \\\n",
        "                when(mapped_df['geo_division'] == lit(\"6\"), lit(\"EAST SOUTH CENTRAL\")). \\\n",
        "                when(mapped_df['geo_division'] == lit(\"7\"), lit(\"WEST SOUTH CENTRAL\")). \\\n",
        "                when(mapped_df['geo_division'] == lit(\"8\"), lit(\"MOUNTAIN\")). \\\n",
        "                when(mapped_df['geo_division'] == lit(\"9\"), lit(\"PACIFIC\")). \\\n",
        "                otherwise('UNDEFINED').alias('geo_division'), \\\n",
        "                when(mapped_df['race'] == lit(\"1\"), lit(\"White Only\")). \\\n",
        "                when(mapped_df['race'] == lit(\"2\"), lit(\"Black Only\")). \\\n",
        "                when(mapped_df['race'] == lit(\"3\"), lit(\"American Indian, Alaskan Native Only\")). \\\n",
        "                when(mapped_df['race'] == lit(\"4\"), lit(\"Asian Only\")). \\\n",
        "                when(mapped_df['race'] == lit(\"5\"), lit(\"Hawaiian/Pacific Islander Only\")). \\\n",
        "                when(mapped_df['race'] == lit(\"6\"), lit(\"White-Black\")). \\\n",
        "                when(mapped_df['race'] == lit(\"7\"), lit(\"White-AI\")). \\\n",
        "                when(mapped_df['race'] == lit(\"8\"), lit(\"White-Asian\")). \\\n",
        "                when(mapped_df['race'] == lit(\"9\"), lit(\"White-HP\")). \\\n",
        "                when(mapped_df['race'] == lit(\"10\"), lit(\"Black-AI\")). \\\n",
        "                when(mapped_df['race'] == lit(\"11\"), lit(\"Black-Asian\")). \\\n",
        "                when(mapped_df['race'] == lit(\"12\"), lit(\"Black-HP\")). \\\n",
        "                when(mapped_df['race'] == lit(\"13\"), lit(\"AI-Asian\")). \\\n",
        "                when(mapped_df['race'] == lit(\"14\"), lit(\"AI-HP\")). \\\n",
        "                when(mapped_df['race'] == lit(\"15\"), lit(\"Asian-HP\")). \\\n",
        "                when(mapped_df['race'] == lit(\"16\"), lit(\"W-B-AI\")). \\\n",
        "                when(mapped_df['race'] == lit(\"17\"), lit(\"W-B-A\")). \\\n",
        "                when(mapped_df['race'] == lit(\"18\"), lit(\"W-B-HP\")). \\\n",
        "                when(mapped_df['race'] == lit(\"19\"), lit(\"W-AI-A\")). \\\n",
        "                when(mapped_df['race'] == lit(\"20\"), lit(\"W-AI-HP\")). \\\n",
        "                when(mapped_df['race'] == lit(\"21\"), lit(\"W-A-HP\")). \\\n",
        "                when(mapped_df['race'] == lit(\"22\"), lit(\"B-AI-A\")). \\\n",
        "                when(mapped_df['race'] == lit(\"23\"), lit(\"W-B-AI-A\")). \\\n",
        "                when(mapped_df['race'] == lit(\"24\"), lit(\"W-AI-A-HP\")). \\\n",
        "                when(mapped_df['race'] == lit(\"25\"), lit(\"Other 3 Race Combinations\")). \\\n",
        "                when(mapped_df['race'] == lit(\"26\"), lit(\"Other 4 and 5 Race Combinations\")). \\\n",
        "                 otherwise('UNDEFINED').alias('race'))"
      ]
    },
    {
      "cell_type": "code",
      "execution_count": 23,
      "metadata": {
        "colab": {
          "base_uri": "https://localhost:8080/"
        },
        "id": "5bKXSKmunzoS",
        "outputId": "0f295949-f3cb-48a7-e0ca-72cb1631869a"
      },
      "outputs": [
        {
          "output_type": "stream",
          "name": "stdout",
          "text": [
            "+-----------------+-----------------+----------------+--------------------+--------------------+---------+----------------------+------------------------------+--------------+-------------------+------------------+----------+\n",
            "|full_household_id|time_of_interview|   final_outcome|   housing_unit_type|      household_type|telephone|access_phone_elsewhere|telephone_interview_acceptable|interview_type|family_income_range|      geo_division|      race|\n",
            "+-----------------+-----------------+----------------+--------------------+--------------------+---------+----------------------+------------------------------+--------------+-------------------+------------------+----------+\n",
            "|  000004795110719|          2017/12|   CAPI COMPLETE|HOUSE, APARTMENT,...|HUSBAND/WIFE PRIM...|      YES|                   YES|                           YES|     TELEPHONE|   30,000 TO 34,999|EAST SOUTH CENTRAL|White Only|\n",
            "|  000004795110719|          2017/12|   CAPI COMPLETE|HOUSE, APARTMENT,...|HUSBAND/WIFE PRIM...|      YES|                   YES|                           YES|     TELEPHONE|   30,000 TO 34,999|EAST SOUTH CENTRAL|White Only|\n",
            "|  000071691004941|          2017/12|   CAPI COMPLETE|HOUSE, APARTMENT,...|HUSBAND/WIFE PRIM...|      YES|                   YES|                           YES|      PERSONAL|   40,000 TO 49,999|EAST SOUTH CENTRAL|White Only|\n",
            "|  000071691004941|          2017/12|   CAPI COMPLETE|HOUSE, APARTMENT,...|HUSBAND/WIFE PRIM...|      YES|                   YES|                           YES|      PERSONAL|   40,000 TO 49,999|EAST SOUTH CENTRAL|White Only|\n",
            "|  000071691004941|          2017/12|   CAPI COMPLETE|HOUSE, APARTMENT,...|HUSBAND/WIFE PRIM...|      YES|                   YES|                           YES|      PERSONAL|   40,000 TO 49,999|EAST SOUTH CENTRAL|White Only|\n",
            "|  000110177987986|          2017/12|   CAPI COMPLETE|HOUSE, APARTMENT,...|HUSBAND/WIFE PRIM...|      YES|                   YES|                           YES|      PERSONAL|   75,000 TO 99,999|EAST SOUTH CENTRAL|Black Only|\n",
            "|  000110177987986|          2017/12|   CAPI COMPLETE|HOUSE, APARTMENT,...|HUSBAND/WIFE PRIM...|      YES|                   YES|                           YES|      PERSONAL|   75,000 TO 99,999|EAST SOUTH CENTRAL|Black Only|\n",
            "|  000110206593381|          2017/12|LANGUAGE BARRIER|HOUSE, APARTMENT,...|           UNDEFINED|UNDEFINED|                   YES|                     UNDEFINED|      PERSONAL|   LESS THAN $5,000|EAST SOUTH CENTRAL| UNDEFINED|\n",
            "|  000110284815680|          2017/12|   CAPI COMPLETE|HOUSE, APARTMENT,...|CIVILIAN FEMALE P...|      YES|                   YES|                           YES|      PERSONAL|   30,000 TO 34,999|EAST SOUTH CENTRAL|White Only|\n",
            "|  000110327856469|          2017/12|   CAPI COMPLETE|HOUSE, APARTMENT,...|CIVILIAN FEMALE P...|      YES|                   YES|                           YES|      PERSONAL|   12,500 TO 14,999|EAST SOUTH CENTRAL|Black Only|\n",
            "|  000110339935453|          2017/12|   CAPI COMPLETE|HOUSE, APARTMENT,...|UNMARRIED CIV. FE...|      YES|                   YES|                           YES|     TELEPHONE|   40,000 TO 49,999|EAST SOUTH CENTRAL|Black Only|\n",
            "|  000110339935453|          2017/12|   CAPI COMPLETE|HOUSE, APARTMENT,...|UNMARRIED CIV. FE...|      YES|                   YES|                           YES|     TELEPHONE|   40,000 TO 49,999|EAST SOUTH CENTRAL|Black Only|\n",
            "|  000110339935453|          2017/12|   CAPI COMPLETE|HOUSE, APARTMENT,...|UNMARRIED CIV. FE...|      YES|                   YES|                           YES|     TELEPHONE|   40,000 TO 49,999|EAST SOUTH CENTRAL|Black Only|\n",
            "|  000110339935453|          2017/12|   CAPI COMPLETE|HOUSE, APARTMENT,...|UNMARRIED CIV. FE...|      YES|                   YES|                           YES|     TELEPHONE|   40,000 TO 49,999|EAST SOUTH CENTRAL|Black Only|\n",
            "|  000110343868567|          2017/12|   CAPI COMPLETE|HOUSE, APARTMENT,...|HUSBAND/WIFE PRIM...|      YES|                   YES|                     UNDEFINED|      PERSONAL|   75,000 TO 99,999|EAST SOUTH CENTRAL|White Only|\n",
            "|  000110343868567|          2017/12|   CAPI COMPLETE|HOUSE, APARTMENT,...|HUSBAND/WIFE PRIM...|      YES|                   YES|                     UNDEFINED|      PERSONAL|   75,000 TO 99,999|EAST SOUTH CENTRAL|White Only|\n",
            "|  000110359424339|          2017/12|   CAPI COMPLETE|HOUSE, APARTMENT,...|UNMARRIED CIV. FE...|      YES|                   YES|                           YES|      PERSONAL|   60,000 TO 74,999|EAST SOUTH CENTRAL|Black Only|\n",
            "|  000110359424339|          2017/12|   CAPI COMPLETE|HOUSE, APARTMENT,...|UNMARRIED CIV. FE...|      YES|                   YES|                           YES|      PERSONAL|   60,000 TO 74,999|EAST SOUTH CENTRAL|Black Only|\n",
            "|  000110415400429|          2017/12|   CAPI COMPLETE|HOUSE, APARTMENT,...|HUSBAND/WIFE PRIM...|      YES|                   YES|                           YES|      PERSONAL|   35,000 TO 39,999|EAST SOUTH CENTRAL|White Only|\n",
            "|  000110415400429|          2017/12|   CAPI COMPLETE|HOUSE, APARTMENT,...|HUSBAND/WIFE PRIM...|      YES|                   YES|                           YES|      PERSONAL|   35,000 TO 39,999|EAST SOUTH CENTRAL|White Only|\n",
            "+-----------------+-----------------+----------------+--------------------+--------------------+---------+----------------------+------------------------------+--------------+-------------------+------------------+----------+\n",
            "only showing top 20 rows\n",
            "\n"
          ]
        }
      ],
      "source": [
        "final_mapped_df.show()"
      ]
    },
    {
      "cell_type": "markdown",
      "metadata": {
        "id": "-_U1ow0xnzoT"
      },
      "source": [
        "**Question 1: Count of responders per family income range:**"
      ]
    },
    {
      "cell_type": "code",
      "execution_count": 24,
      "metadata": {
        "colab": {
          "base_uri": "https://localhost:8080/"
        },
        "id": "9_bW_mM_nzoV",
        "outputId": "2889f228-c88d-4e63-fd9b-15a35c77c0b0"
      },
      "outputs": [
        {
          "output_type": "stream",
          "name": "stdout",
          "text": [
            "+-------------------+-----+\n",
            "|family_income_range|count|\n",
            "+-------------------+-----+\n",
            "|   20,000 TO 24,999| 6312|\n",
            "|   60,000 TO 74,999|13442|\n",
            "|     7,500 TO 9,999| 2277|\n",
            "|   30,000 TO 34,999| 6743|\n",
            "|   75,000 TO 99,999|16557|\n",
            "|   15,000 TO 19,999| 4518|\n",
            "|   35,000 TO 39,999| 6620|\n",
            "|    150,000 OR MORE|15704|\n",
            "|   40,000 TO 49,999| 9788|\n",
            "|   12,500 TO 14,999| 2614|\n",
            "|   LESS THAN $5,000|23527|\n",
            "|   50,000 TO 59,999| 9971|\n",
            "|     5,000 TO 7,499| 1625|\n",
            "|   25,000 TO 29,999| 5803|\n",
            "| 100,000 TO 149,999|17794|\n",
            "|   10,000 TO 12,499| 3161|\n",
            "+-------------------+-----+\n",
            "\n"
          ]
        }
      ],
      "source": [
        "income_count = final_mapped_df.groupBy(\"family_income_range\").count()\n",
        "income_count.show()"
      ]
    },
    {
      "cell_type": "markdown",
      "metadata": {
        "id": "62SRMlemnzoW"
      },
      "source": [
        "**Question 2: Count of responders per geographical division/location and race (top 10):**"
      ]
    },
    {
      "cell_type": "code",
      "execution_count": 25,
      "metadata": {
        "colab": {
          "base_uri": "https://localhost:8080/"
        },
        "id": "3TIObHpxnzoW",
        "outputId": "43c3af7a-3dd6-4f6b-cd12-e78b920248a7"
      },
      "outputs": [
        {
          "output_type": "stream",
          "name": "stdout",
          "text": [
            "+------------------+----------+-----+\n",
            "|      geo_division|      race|count|\n",
            "+------------------+----------+-----+\n",
            "|    SOUTH ATLANTIC|White Only|16999|\n",
            "|          MOUNTAIN|White Only|14343|\n",
            "|           PACIFIC|White Only|13214|\n",
            "|EAST NORTH CENTRAL|White Only|11325|\n",
            "|WEST SOUTH CENTRAL|White Only|11248|\n",
            "|WEST NORTH CENTRAL|White Only| 9884|\n",
            "|   MIDDLE ATLANTIC|White Only| 8487|\n",
            "|       NEW ENGLAND|White Only| 8410|\n",
            "|EAST SOUTH CENTRAL|White Only| 6580|\n",
            "|    SOUTH ATLANTIC|Black Only| 4899|\n",
            "+------------------+----------+-----+\n",
            "only showing top 10 rows\n",
            "\n"
          ]
        }
      ],
      "source": [
        "geo_race_count = final_mapped_df.groupBy(\"geo_division\", \"race\").count().orderBy(\"count\", ascending=False)\n",
        "geo_race_count.show(10)"
      ]
    },
    {
      "cell_type": "markdown",
      "metadata": {
        "id": "A59Fzf3MnzoW"
      },
      "source": [
        "**Question 3: Responders without a telephone but can access one elsewhere and accept a telephone interview:**"
      ]
    },
    {
      "cell_type": "code",
      "execution_count": 26,
      "metadata": {
        "colab": {
          "base_uri": "https://localhost:8080/"
        },
        "id": "p1FE4YronzoX",
        "outputId": "5b854321-5b72-49a2-f566-e4c549a1ac20"
      },
      "outputs": [
        {
          "output_type": "stream",
          "name": "stdout",
          "text": [
            "Count of responders without a telephone but can access one: 0\n"
          ]
        }
      ],
      "source": [
        "count_telephone = final_mapped_df.filter((mapped_df[\"telephone\"] == \"NO\") &\n",
        "                                    (mapped_df[\"access_phone_elsewhere\"] == \"YES\") &\n",
        "                                    (mapped_df[\"telephone_interview_acceptable\"] == \"YES\")).count()\n",
        "print(f\"Count of responders without a telephone but can access one: {count_telephone}\")"
      ]
    },
    {
      "cell_type": "markdown",
      "metadata": {
        "id": "Qp0Z_YNEnzoX"
      },
      "source": [
        "**Question 4: Responders who can access a telephone, but telephone interview is not accepted:**"
      ]
    },
    {
      "cell_type": "code",
      "execution_count": 27,
      "metadata": {
        "colab": {
          "base_uri": "https://localhost:8080/"
        },
        "id": "pZjQ6HIjnzoX",
        "outputId": "fd22e0b8-a646-4237-b1d5-d346d34846fe"
      },
      "outputs": [
        {
          "output_type": "stream",
          "name": "stdout",
          "text": [
            "Count of responders who can access a telephone but do not accept interviews: 0\n"
          ]
        }
      ],
      "source": [
        "count_no_interview = final_mapped_df.filter((mapped_df[\"telephone\"] == \"YES\") &\n",
        "                                      (mapped_df[\"telephone_interview_acceptable\"] == \"NO\")).count()\n",
        "print(f\"Count of responders who can access a telephone but do not accept interviews: {count_no_interview}\")"
      ]
    },
    {
      "cell_type": "code",
      "execution_count": 28,
      "metadata": {
        "colab": {
          "base_uri": "https://localhost:8080/"
        },
        "id": "1NYFi2oJnzoY",
        "outputId": "190d7c3c-6621-4290-a554-1ab5bc24fd69"
      },
      "outputs": [
        {
          "output_type": "stream",
          "name": "stdout",
          "text": [
            "+----------------------+------+\n",
            "|access_phone_elsewhere| count|\n",
            "+----------------------+------+\n",
            "|                  NULL|   917|\n",
            "|                   YES|140084|\n",
            "|                    NO|  5455|\n",
            "+----------------------+------+\n",
            "\n"
          ]
        }
      ],
      "source": [
        " tel_count = final_mapped_df.groupBy(\"access_phone_elsewhere\").count()\n",
        " tel_count.show()"
      ]
    },
    {
      "cell_type": "code",
      "source": [],
      "metadata": {
        "id": "AjS-CxkurGZu"
      },
      "execution_count": null,
      "outputs": []
    }
  ],
  "metadata": {
    "kernelspec": {
      "display_name": "Python 3",
      "language": "python",
      "name": "python3"
    },
    "language_info": {
      "codemirror_mode": {
        "name": "ipython",
        "version": 3
      },
      "file_extension": ".py",
      "mimetype": "text/x-python",
      "name": "python",
      "nbconvert_exporter": "python",
      "pygments_lexer": "ipython3",
      "version": "3.9.13"
    },
    "colab": {
      "provenance": []
    }
  },
  "nbformat": 4,
  "nbformat_minor": 0
}